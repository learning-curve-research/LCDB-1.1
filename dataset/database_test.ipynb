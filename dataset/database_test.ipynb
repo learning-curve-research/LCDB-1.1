{
 "cells": [
  {
   "cell_type": "code",
   "execution_count": 1,
   "metadata": {},
   "outputs": [],
   "source": [
    "import numpy as np\n",
    "import h5py\n",
    "from tqdm import tqdm\n",
    "import random\n",
    "import pandas as pd\n",
    "import itertools as it\n",
    "import scipy.stats as stats\n",
    "import matplotlib.pyplot as plt\n",
    "import seaborn as sns\n",
    "\n",
    "plt.rcParams.update({\"text.usetex\": True, \"font.family\": \"serif\", \"font.serif\": [\"Computer Modern Roman\"]})\n"
   ]
  },
  {
   "cell_type": "code",
   "execution_count": 11,
   "metadata": {},
   "outputs": [
    {
     "name": "stderr",
     "output_type": "stream",
     "text": [
      "C:\\Users\\cyan1\\AppData\\Local\\Temp\\ipykernel_24184\\802317199.py:6: RuntimeWarning: Mean of empty slice\n",
      "  mean_valid_lc_nofs = np.nanmean(dataset_nofs[:,:,:,:,:,1], axis=(2,3))\n",
      "C:\\Users\\cyan1\\AppData\\Local\\Temp\\ipykernel_24184\\802317199.py:7: RuntimeWarning: Mean of empty slice\n",
      "  mean_valid_lc_minmaxfs = np.nanmean(dataset_minmaxfs[:,:,:,:,:,1], axis=(2,3))\n",
      "C:\\Users\\cyan1\\AppData\\Local\\Temp\\ipykernel_24184\\802317199.py:8: RuntimeWarning: Mean of empty slice\n",
      "  mean_valid_lc_standardfs = np.nanmean(dataset_standardfs[:,:,:,:,:,1], axis=(2,3))\n"
     ]
    }
   ],
   "source": [
    "file_paths = [  'LCDB11_ER_265_noFS_raw.hdf5',\n",
    "                'LCDB11_ER_265_minmaxFS_raw.hdf5',\n",
    "                'LCDB11_ER_265_standardFS_raw.hdf5']\n",
    "dataset_nofs, dataset_minmaxfs, dataset_standardfs = [h5py.File(fp, 'r')['error_rate'][...] for fp in file_paths]\n",
    "\n",
    "mean_valid_lc_nofs = np.nanmean(dataset_nofs[:,:,:,:,:,1], axis=(2,3))\n",
    "mean_valid_lc_minmaxfs = np.nanmean(dataset_minmaxfs[:,:,:,:,:,1], axis=(2,3))\n",
    "mean_valid_lc_standardfs = np.nanmean(dataset_standardfs[:,:,:,:,:,1], axis=(2,3))"
   ]
  },
  {
   "cell_type": "code",
   "execution_count": 15,
   "metadata": {},
   "outputs": [
    {
     "name": "stdout",
     "output_type": "stream",
     "text": [
      "Missing learning curves: 530\n"
     ]
    }
   ],
   "source": [
    "# missing mask shape: [265, 24]\n",
    "missing_lc_mask = np.all(np.isnan(mean_valid_lc_nofs), axis=2)  \n",
    "\n",
    "missing_lc_count = np.sum(missing_lc_mask)\n",
    "\n",
    "print(f\"Missing learning curves: {missing_lc_count}\")\n"
   ]
  }
 ],
 "metadata": {
  "kernelspec": {
   "display_name": "Python 3",
   "language": "python",
   "name": "python3"
  },
  "language_info": {
   "codemirror_mode": {
    "name": "ipython",
    "version": 3
   },
   "file_extension": ".py",
   "mimetype": "text/x-python",
   "name": "python",
   "nbconvert_exporter": "python",
   "pygments_lexer": "ipython3",
   "version": "3.11.4"
  }
 },
 "nbformat": 4,
 "nbformat_minor": 2
}

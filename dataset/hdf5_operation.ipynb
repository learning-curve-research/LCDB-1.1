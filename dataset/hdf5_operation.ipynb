{
 "cells": [
  {
   "cell_type": "code",
   "execution_count": 1,
   "metadata": {},
   "outputs": [],
   "source": [
    "import h5py\n",
    "import numpy as np\n",
    "from tqdm import tqdm"
   ]
  },
  {
   "cell_type": "markdown",
   "metadata": {},
   "source": [
    "Compress HDF5"
   ]
  },
  {
   "cell_type": "code",
   "execution_count": 8,
   "metadata": {},
   "outputs": [],
   "source": [
    "original_file_path = 'LCDB11_ER_CC18.hdf5'\n",
    "\n",
    "compressed_file_path = 'LCDB11_ER_CC18_compress.hdf5'\n",
    "\n",
    "with h5py.File(original_file_path, 'r') as hdf_original:\n",
    "    dataset = hdf_original['error rate'][...]\n",
    "\n",
    "# compress the file\n",
    "with h5py.File(compressed_file_path, 'w') as hdf_compressed:\n",
    "    hdf_compressed.create_dataset('error rate', data=dataset, compression='gzip', compression_opts=9)"
   ]
  },
  {
   "cell_type": "markdown",
   "metadata": {},
   "source": [
    "Merge HDF5"
   ]
  },
  {
   "cell_type": "code",
   "execution_count": null,
   "metadata": {},
   "outputs": [
    {
     "name": "stderr",
     "output_type": "stream",
     "text": [
      " 50%|█████     | 1/2 [00:00<00:00,  1.87it/s]"
     ]
    },
    {
     "name": "stdout",
     "output_type": "stream",
     "text": [
      "this round contain 75866181 NaN value\n"
     ]
    },
    {
     "name": "stderr",
     "output_type": "stream",
     "text": [
      "100%|██████████| 2/2 [00:02<00:00,  1.04s/it]\n"
     ]
    }
   ],
   "source": [
    "input_files = ['LCDB11_ER_CC18_no_minmax.hdf5', \n",
    "               'LCDB11_ER_CC18_standard.hdf5']\n",
    "output_file = 'LCDB11_ER_CC18.hdf5'\n",
    "merged_data = None \n",
    "\n",
    "for file_path in tqdm(input_files):\n",
    "    with h5py.File(file_path, 'r') as f:\n",
    "        data = f['error rate'][...]  \n",
    "    \n",
    "        if merged_data is None:\n",
    "            merged_data = np.copy(data)\n",
    "        else:\n",
    "            nan_mask = np.isnan(merged_data)  \n",
    "            print(f\"this round contain {np.sum(nan_mask)} NaN value\")\n",
    "            merged_data[nan_mask] = data[nan_mask]  \n",
    "\n",
    "\n",
    "with h5py.File(output_file, 'w') as f_out:\n",
    "    f_out.create_dataset('error rate', data=merged_data)"
   ]
  }
 ],
 "metadata": {
  "kernelspec": {
   "display_name": "Python 3",
   "language": "python",
   "name": "python3"
  },
  "language_info": {
   "codemirror_mode": {
    "name": "ipython",
    "version": 3
   },
   "file_extension": ".py",
   "mimetype": "text/x-python",
   "name": "python",
   "nbconvert_exporter": "python",
   "pygments_lexer": "ipython3",
   "version": "3.12.3"
  }
 },
 "nbformat": 4,
 "nbformat_minor": 2
}

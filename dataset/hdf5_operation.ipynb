{
 "cells": [
  {
   "cell_type": "code",
   "execution_count": 1,
   "metadata": {},
   "outputs": [],
   "source": [
    "import h5py\n",
    "import numpy as np\n",
    "from tqdm import tqdm"
   ]
  },
  {
   "cell_type": "markdown",
   "metadata": {},
   "source": [
    "Compress HDF5"
   ]
  },
  {
   "cell_type": "code",
   "execution_count": 7,
   "metadata": {},
   "outputs": [],
   "source": [
    "original_file_path = 'LCDB11_ER_265_standardFS_raw.hdf5'\n",
    "\n",
    "compressed_file_path = 'LCDB11_ER_265_standardFS_raw_compress.hdf5'\n",
    "\n",
    "with h5py.File(original_file_path, 'r') as hdf_original:\n",
    "    dataset = hdf_original['error_rate'][...]\n",
    "\n",
    "# compress the file\n",
    "with h5py.File(compressed_file_path, 'w') as hdf_compressed:\n",
    "    hdf_compressed.create_dataset('error_rate', data=dataset, compression='gzip', compression_opts=9)"
   ]
  },
  {
   "cell_type": "markdown",
   "metadata": {},
   "source": [
    "Merge HDF5"
   ]
  },
  {
   "cell_type": "code",
   "execution_count": 3,
   "metadata": {},
   "outputs": [
    {
     "name": "stderr",
     "output_type": "stream",
     "text": [
      "  8%|▊         | 1/12 [00:01<00:15,  1.43s/it]"
     ]
    },
    {
     "name": "stdout",
     "output_type": "stream",
     "text": [
      "this round contain 59307186 NaN value\n"
     ]
    },
    {
     "name": "stderr",
     "output_type": "stream",
     "text": [
      " 17%|█▋        | 2/12 [00:03<00:16,  1.67s/it]"
     ]
    },
    {
     "name": "stdout",
     "output_type": "stream",
     "text": [
      "this round contain 55247076 NaN value\n"
     ]
    },
    {
     "name": "stderr",
     "output_type": "stream",
     "text": [
      " 25%|██▌       | 3/12 [00:05<00:15,  1.75s/it]"
     ]
    },
    {
     "name": "stdout",
     "output_type": "stream",
     "text": [
      "this round contain 52640235 NaN value\n"
     ]
    },
    {
     "name": "stderr",
     "output_type": "stream",
     "text": [
      " 33%|███▎      | 4/12 [00:07<00:14,  1.86s/it]"
     ]
    },
    {
     "name": "stdout",
     "output_type": "stream",
     "text": [
      "this round contain 50951106 NaN value\n"
     ]
    },
    {
     "name": "stderr",
     "output_type": "stream",
     "text": [
      " 42%|████▏     | 5/12 [00:08<00:12,  1.86s/it]"
     ]
    },
    {
     "name": "stdout",
     "output_type": "stream",
     "text": [
      "this round contain 49827291 NaN value\n"
     ]
    },
    {
     "name": "stderr",
     "output_type": "stream",
     "text": [
      " 50%|█████     | 6/12 [00:10<00:10,  1.82s/it]"
     ]
    },
    {
     "name": "stdout",
     "output_type": "stream",
     "text": [
      "this round contain 48472218 NaN value\n"
     ]
    },
    {
     "name": "stderr",
     "output_type": "stream",
     "text": [
      " 58%|█████▊    | 7/12 [00:12<00:08,  1.77s/it]"
     ]
    },
    {
     "name": "stdout",
     "output_type": "stream",
     "text": [
      "this round contain 47633286 NaN value\n"
     ]
    },
    {
     "name": "stderr",
     "output_type": "stream",
     "text": [
      " 67%|██████▋   | 8/12 [00:14<00:06,  1.74s/it]"
     ]
    },
    {
     "name": "stdout",
     "output_type": "stream",
     "text": [
      "this round contain 47185614 NaN value\n"
     ]
    },
    {
     "name": "stderr",
     "output_type": "stream",
     "text": [
      " 75%|███████▌  | 9/12 [00:15<00:05,  1.72s/it]"
     ]
    },
    {
     "name": "stdout",
     "output_type": "stream",
     "text": [
      "this round contain 46735824 NaN value\n"
     ]
    },
    {
     "name": "stderr",
     "output_type": "stream",
     "text": [
      " 83%|████████▎ | 10/12 [00:17<00:03,  1.70s/it]"
     ]
    },
    {
     "name": "stdout",
     "output_type": "stream",
     "text": [
      "this round contain 45597015 NaN value\n"
     ]
    },
    {
     "name": "stderr",
     "output_type": "stream",
     "text": [
      " 92%|█████████▏| 11/12 [00:19<00:01,  1.75s/it]"
     ]
    },
    {
     "name": "stdout",
     "output_type": "stream",
     "text": [
      "this round contain 45397170 NaN value\n"
     ]
    },
    {
     "name": "stderr",
     "output_type": "stream",
     "text": [
      "100%|██████████| 12/12 [00:20<00:00,  1.75s/it]\n"
     ]
    }
   ],
   "source": [
    "input_files = ['experiments/LCDB11_ER_CC18_noFS_clean1.hdf5', \n",
    "               'experiments/LCDB11_ER_CC18_noFS_clean2.hdf5', \n",
    "               'experiments/LCDB11_ER_CC18_noFS_clean3.hdf5', \n",
    "               'experiments/LCDB11_ER_CC18_noFS_clean4.hdf5', \n",
    "               'experiments/LCDB11_ER_CC18_noFS_clean5.hdf5', \n",
    "               'experiments/LCDB11_ER_CC18_noFS_clean6.hdf5', \n",
    "               'experiments/LCDB11_ER_CC18_noFS_clean7.hdf5', \n",
    "               'experiments/LCDB11_ER_CC18_noFS_clean8.hdf5', \n",
    "               'experiments/LCDB11_ER_CC18_noFS_clean9.hdf5',\n",
    "               'experiments/LCDB11_ER_CC18_noFS_clean10.hdf5', \n",
    "               'experiments/LCDB11_ER_CC18_noFS_clean11.hdf5',\n",
    "               'experiments/LCDB11_ER_CC18_noFS_clean12.hdf5']\n",
    "output_file = 'experiments/LCDB11_ER_270_noFS_clean.hdf5'\n",
    "merged_data = None \n",
    "\n",
    "for file_path in tqdm(input_files):\n",
    "    with h5py.File(file_path, 'r') as f:\n",
    "        data = f['error_rate'][...]  \n",
    "    \n",
    "        if merged_data is None:\n",
    "            merged_data = np.copy(data)\n",
    "        else:\n",
    "            nan_mask = np.isnan(merged_data)  \n",
    "            print(f\"this round contain {np.sum(nan_mask)} NaN value\")\n",
    "            merged_data[nan_mask] = data[nan_mask]  \n",
    "\n",
    "\n",
    "with h5py.File(output_file, 'w') as f_out:\n",
    "    f_out.create_dataset('error_rate', data=merged_data)"
   ]
  }
 ],
 "metadata": {
  "kernelspec": {
   "display_name": "Python 3",
   "language": "python",
   "name": "python3"
  },
  "language_info": {
   "codemirror_mode": {
    "name": "ipython",
    "version": 3
   },
   "file_extension": ".py",
   "mimetype": "text/x-python",
   "name": "python",
   "nbconvert_exporter": "python",
   "pygments_lexer": "ipython3",
   "version": "3.11.4"
  }
 },
 "nbformat": 4,
 "nbformat_minor": 2
}

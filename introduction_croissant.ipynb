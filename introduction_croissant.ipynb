{
  "cells": [
    {
      "cell_type": "markdown",
      "metadata": {
        "id": "AriH9CP6AKhs"
      },
      "source": [
        "# Tutorial for `mlcroissant` 🥐"
      ]
    },
    {
      "cell_type": "markdown",
      "metadata": {
        "id": "Hh-0cehIAErA"
      },
      "source": [
        "## Introduction\n",
        "\n",
        "Croissant 🥐 is a high-level format for machine learning datasets that combines metadata, resource file descriptions, data structure, and default ML semantics into a single file.\n",
        "\n",
        "Croissant builds on schema.org, and its `sc:Dataset` vocabulary, a widely used format to represent datasets on the Web, and make them searchable.\n",
        "\n",
        "The [`mlcroissant`](https://github.com/mlcommons/croissant/python/mlcroissant) Python library empowers developers to interact with Croissant:\n",
        "\n",
        "- Programmatically write your JSON-LD Croissant files.\n",
        "- Verify your JSON-LD Croissant files.\n",
        "- Load data from Croissant datasets."
      ]
    },
    {
      "cell_type": "code",
      "execution_count": null,
      "metadata": {
        "id": "0qpWrlwV-x52"
      },
      "outputs": [],
      "source": [
        "# Install mlcroissant from the source\n",
        "!apt-get install -y python3-dev graphviz libgraphviz-dev pkg-config\n",
        "!pip install \"git+https://github.com/${GITHUB_REPOSITORY:-mlcommons/croissant}.git@${GITHUB_HEAD_REF:-main}#subdirectory=python/mlcroissant&egg=mlcroissant[dev]\""
      ]
    },
    {
      "cell_type": "markdown",
      "metadata": {
        "id": "Xwrol5JR_GTY"
      },
      "source": [
        "## Example\n",
        "\n",
        "Let's try on a very concrete dataset: OpenAI's [`gpt-3`](https://github.com/openai/gpt-3) dataset for LLMs!\n",
        "\n",
        "In the tutorial, we will generate programmatically the Croissant JSON-LD file describing the dataset. Then we will verify the file and yield data from the dataset."
      ]
    },
    {
      "cell_type": "code",
      "execution_count": 46,
      "metadata": {
        "id": "7OyQffJv-zso"
      },
      "outputs": [],
      "source": [
        "import mlcroissant as mlc\n",
        "\n",
        "# FileObjects and FileSets define the resources of the dataset.\n",
        "distribution = [\n",
        "    mlc.FileObject(\n",
        "        id=\"LCDB11_AUC_265_24\",\n",
        "        name=\"LCDB11_AUC_265_24.hdf5\",\n",
        "        description=\"LCDB 1.1: AUC learning curves of 24 leaners in 265 datasets (weighted One-vs-the-Rest (OvR) for multiclass)\",\n",
        "        content_url=\"https://data.4tu.nl/file/3bd18108-fad0-4e4c-affd-4341fba99306/77832f78-9d7f-4db1-ab97-abceb9e227d9\",\n",
        "        encoding_formats=[\"application/x-hdf5\"],\n",
        "        sha256=\"9A7D14478A1A3231873FCC66BDA3606C7857F872CF3CBD368BFB12F6DFE9A14F\",\n",
        "    ),\n",
        "    mlc.FileObject(\n",
        "        id=\"LCDB11_AUC_265_mixNB\",\n",
        "        name=\"LCDB11_AUC_265_mixNB.hdf5\",\n",
        "        description=\"LCDB 1.1: AUC learning curves of 4 mixed NB leaners in 265 datasets (weighted One-vs-the-Rest (OvR) for multiclass)\",\n",
        "        content_url=\"https://data.4tu.nl/file/3bd18108-fad0-4e4c-affd-4341fba99306/58f5b37e-7dde-4600-acbb-d6f206eb6e45\",\n",
        "        encoding_formats=[\"application/x-hdf5\"],\n",
        "        sha256=\"87EB8DCF0A1D89BBE9DF24324C01439011A520AB6A3669EAE431288D6FB46BB9\",\n",
        "    ),\n",
        "    mlc.FileObject(\n",
        "        id=\"LCDB11_ER_265_24\",\n",
        "        name=\"LCDB11_ER_265_24.hdf5\",\n",
        "        description=\"LCDB 1.1: error rate learning curves of 24 leaners in 265 datasets\",\n",
        "        content_url=\"https://data.4tu.nl/file/3bd18108-fad0-4e4c-affd-4341fba99306/18519a1b-2fbd-45cb-b208-cf5a56e3293c\",\n",
        "        encoding_formats=[\"application/x-hdf5\"],\n",
        "        sha256=\"B2DD45C4715C9C620B5781C5A77DA00B978EA1A697DA0AA90E70A6B4D369A86C\",\n",
        "    ),\n",
        "    mlc.FileObject(\n",
        "        id=\"LCDB11_ER_265_mixNB\",\n",
        "        name=\"LCDB11_ER_265_mixNB.hdf5\",\n",
        "        description=\"LCDB 1.1: error rate learning curves of 4 mixed NB leaners in 265 datasets\",\n",
        "        content_url=\"https://data.4tu.nl/file/3bd18108-fad0-4e4c-affd-4341fba99306/8f65a88b-1ff5-4a83-a3d8-09823e13400f\",\n",
        "        encoding_formats=[\"application/x-hdf5\"],\n",
        "        sha256=\"8D3C8B355515A2E7B326D6DD0C3539CDAFBAEE260A074703FAF3E9869FAF82E2\",\n",
        "    ),\n",
        "    mlc.FileObject(\n",
        "        id=\"LCDB11_ER_CC18_24\",\n",
        "        name=\"LCDB11_ER_CC18_24.hdf5\",\n",
        "        description=\"LCDB 1.1: error rate learning curves of 24 leaners in CC-18 datasets\",\n",
        "        content_url=\"https://data.4tu.nl/file/3bd18108-fad0-4e4c-affd-4341fba99306/d1016687-644d-4c26-9e22-2d5e4a665f12\",\n",
        "        encoding_formats=[\"application/x-hdf5\"],\n",
        "        sha256=\"5E2FD4BC720C814459175502C78672907590A6C69012B47E4D70B95B4F0F11F7\",\n",
        "    ),\n",
        "    mlc.FileObject(\n",
        "        id=\"LCDB11_f1_265_24\",\n",
        "        name=\"LCDB11_f1_265_24.hdf5\",\n",
        "        description=\"LCDB 1.1: F1 score learning curves of 24 leaners in 265 datasets\",\n",
        "        content_url=\"https://data.4tu.nl/file/3bd18108-fad0-4e4c-affd-4341fba99306/499e0751-766e-49b1-a9bb-bed7e420f7a3\",\n",
        "        encoding_formats=[\"application/x-hdf5\"],\n",
        "        sha256=\"E5F181A963271057D7FD3C7F91B6966AF6A60A7C021DAEBD6037EB606AFEC6F9\",\n",
        "    ),\n",
        "    mlc.FileObject(\n",
        "        id=\"LCDB11_f1_265_mixNB\",\n",
        "        name=\"LCDB11_f1_265_mixNB.hdf5\",\n",
        "        description=\"LCDB 1.1: F1 score learning curves of 4 mixed NB leaners in 265 datasets\",\n",
        "        content_url=\"https://data.4tu.nl/file/3bd18108-fad0-4e4c-affd-4341fba99306/bf766e1f-836e-47bd-8aef-c15cbb7501fb\",\n",
        "        encoding_formats=[\"application/x-hdf5\"],\n",
        "        sha256=\"0F66B9CA4D413D88C030B460E80825FEE3194BAAE0CC30AD3B3375A6DFAA53F2\",\n",
        "    ),\n",
        "    mlc.FileObject(\n",
        "        id=\"LCDB11_log-loss_265_24\",\n",
        "        name=\"LCDB11_log-loss_265_24.hdf5\",\n",
        "        description=\"LCDB 1.1: log-loss learning curves of 24 leaners in 265 datasets\",\n",
        "        content_url=\"https://data.4tu.nl/file/3bd18108-fad0-4e4c-affd-4341fba99306/f0acffa7-b031-4efe-9505-21ac4d448231\",\n",
        "        encoding_formats=[\"application/x-hdf5\"],\n",
        "        sha256=\"D9F9F671F3B53E75E4C320D1F107EF93D9450074267154FE660D1A67A2542041\",\n",
        "    ),\n",
        "    mlc.FileObject(\n",
        "        id=\"LCDB11_log-loss_265_mixNB\",\n",
        "        name=\"LCDB11_log-loss_265_mixNB.hdf5\",\n",
        "        description=\"LCDB 1.1: log-loss learning curves of 4 mixed NB leaners in 265 datasets\",\n",
        "        content_url=\"https://data.4tu.nl/file/3bd18108-fad0-4e4c-affd-4341fba99306/3b0be3fc-f1e4-42df-a61b-fe699bfab0f1\",\n",
        "        encoding_formats=[\"application/x-hdf5\"],\n",
        "        sha256=\"721503B67CD5F97C48A6FB34E4A6F869D4427446FC696C7EAD739B2242333B0B\",\n",
        "    ),\n",
        "    mlc.FileObject(\n",
        "        id=\"LCDB11_msg_265_24\",\n",
        "        name=\"LCDB11_msg_265_24.hdf5\",\n",
        "        description=\"LCDB 1.1: status and error message of 24 leaners in 265 datasets\",\n",
        "        content_url=\"https://data.4tu.nl/file/3bd18108-fad0-4e4c-affd-4341fba99306/5862f359-69e6-4732-9195-1d68552b976a\",\n",
        "        encoding_formats=[\"application/x-hdf5\"],\n",
        "        sha256=\"B22399AD494304C041D564DA0690844BC7C22947C9B628739AB711531544C9C2\",\n",
        "    ),\n",
        "    mlc.FileObject(\n",
        "        id=\"LCDB11_traintime_265_24\",\n",
        "        name=\"LCDB11_traintime_265_24.hdf5\",\n",
        "        description=\"LCDB 1.1: training time learning curves of 24 leaners in 265 datasets\",\n",
        "        content_url=\"https://data.4tu.nl/file/3bd18108-fad0-4e4c-affd-4341fba99306/82170e2b-592d-47ee-82ce-0dce1bfb38e2\",\n",
        "        encoding_formats=[\"application/x-hdf5\"],\n",
        "        sha256=\"AFB99958FE137DF081BF33D2C8ED72BA99651DC48920FD35BD2B7D7F94D9BA86\",\n",
        "    ),\n",
        "\n",
        "    # Within that repository, a FileSet lists all files:\n",
        "    mlc.FileSet(\n",
        "        id=\"LCDB-1.1\",\n",
        "        name=\"Learning Curves Database 1.1 (LCDB 1.1)\",\n",
        "        description=\"All HDF5-files of LCDB 1.1 are hosted on 4TU.ResearchData.\",\n",
        "        contained_in=[\"LCDB11_AUC_265_24\", \"LCDB11_AUC_265_mixNB\", \"LCDB11_ER_265_24\", \"LCDB11_ER_265_mixNB\", \"LCDB11_ER_CC18_24\", \"LCDB11_f1_265_24\", \n",
        "                      \"LCDB11_f1_265_mixNB\", \"LCDB11_log-loss_265_24\", \"LCDB11_log-loss_265_mixNB\", \"LCDB11_msg_265_24\", \"LCDB11_traintime_265_24\"],\n",
        "        encoding_formats=[\"application/x-hdf5\"],\n",
        "        includes=\"*.hdf5\",\n",
        "    ),\n",
        "]\n",
        "# record_sets = [\n",
        "#     # RecordSets contains records in the dataset.\n",
        "#     mlc.RecordSet(\n",
        "#         id=\"HDF5\",\n",
        "#         name=\"jsonl\",\n",
        "#         # Each record has one or many fields...\n",
        "#         fields=[\n",
        "#             # Fields can be extracted from the FileObjects/FileSets.\n",
        "#             mlc.Field(\n",
        "#                 id=\"jsonl/context\",\n",
        "#                 name=\"context\",\n",
        "#                 description=\"\",\n",
        "#                 data_types=mlc.DataType.TEXT,\n",
        "#                 source=mlc.Source(\n",
        "#                     file_set=\"jsonl-files\",\n",
        "#                     # Extract the field from the column of a FileObject/FileSet:\n",
        "#                     extract=mlc.Extract(column=\"context\"),\n",
        "#                 ),\n",
        "#             ),\n",
        "#             mlc.Field(\n",
        "#                 id=\"jsonl/completion\",\n",
        "#                 name=\"completion\",\n",
        "#                 description=\"The expected completion of the promt.\",\n",
        "#                 data_types=mlc.DataType.TEXT,\n",
        "#                 source=mlc.Source(\n",
        "#                     file_set=\"jsonl-files\",\n",
        "#                     extract=mlc.Extract(column=\"completion\"),\n",
        "#                 ),\n",
        "#             ),\n",
        "#             mlc.Field(\n",
        "#                 id=\"jsonl/task\",\n",
        "#                 name=\"task\",\n",
        "#                 description=(\n",
        "#                     \"The machine learning task appearing as the name of the\"\n",
        "#                     \" file.\"\n",
        "#                 ),\n",
        "#                 data_types=mlc.DataType.TEXT,\n",
        "#                 source=mlc.Source(\n",
        "#                     file_set=\"jsonl-files\",\n",
        "#                     extract=mlc.Extract(\n",
        "#                         file_property=mlc._src.structure_graph.nodes.source.FileProperty.filename\n",
        "#                     ),\n",
        "#                     # Extract the field from a regex on the filename:\n",
        "#                     transforms=[mlc.Transform(regex=\"^(.*)\\\\.jsonl$\")],\n",
        "#                 ),\n",
        "#             ),\n",
        "#         ],\n",
        "#     )\n",
        "# ]\n",
        "\n",
        "# Metadata contains information about the dataset.\n",
        "metadata = mlc.Metadata(\n",
        "    name=\"LCDB 1.1\",\n",
        "    license = \"CC BY-NC-SA 4.0\",\n",
        "    # Descriptions can contain plain text or markdown.\n",
        "    description=(\n",
        "        \"Sample-wise learning curves plot performance versus training set size. They are useful for studying scaling laws and speeding up hyperparameter tuning and model selection. Learning curves are often assumed to be well-behaved: monotone (i.e. improving with more data) and convex. By constructing the Learning Curves Database 1.1, a larger scale database wither high resolution learning curves, we show that that learning curves are less often well-behaved than previously believed. Based on statistically rigorous methods, we find significant ill-behavior in approximately 14\\% of learning curves, almost twice as much as earlier estimates. We also identify which learners are to blame, and find that specific learners are more ill-behaved than others. Additionally, we find that different feature scalings rarely resolves ill-behavior. We evaluate the impact of ill-behavior on downstream tasks, such as learning curve fitting and model selection, and find it poses significant challenges, emphasizing the relevance of ill-behaving curves, and underscores the challenging nature of our newly proposed learning curve database.\"\n",
        "    ),\n",
        "    cite_as=(\n",
        "        \"coming soon\"\n",
        "    ),\n",
        "    url=\"https://data.4tu.nl/private_datasets/V7dDlGyQJqPc_mXUAJL1MweACKG557GQtOWIVHhYpjU\",\n",
        "    distribution=distribution,\n",
        "    # record_sets=record_sets,\n",
        ")"
      ]
    },
    {
      "cell_type": "markdown",
      "metadata": {
        "id": "2RUVgWI-DldZ"
      },
      "source": [
        "When creating `Metadata`:\n",
        "- We also check for errors in the configuration.\n",
        "- We generate warnings if the configuration doesn't follow guidelines and best practices.\n",
        "\n",
        "For instance, in this case:"
      ]
    },
    {
      "cell_type": "code",
      "execution_count": 47,
      "metadata": {
        "id": "AENcJUwMCd1B"
      },
      "outputs": [
        {
          "name": "stdout",
          "output_type": "stream",
          "text": [
            "Found the following 2 warning(s) during the validation:\n",
            "  -  [Metadata(LCDB 1.1)] Property \"https://schema.org/datePublished\" is recommended, but does not exist.\n",
            "  -  [Metadata(LCDB 1.1)] Property \"https://schema.org/version\" is recommended, but does not exist.\n"
          ]
        }
      ],
      "source": [
        "print(metadata.issues.report())"
      ]
    },
    {
      "cell_type": "markdown",
      "metadata": {
        "id": "vES3KHaND4P2"
      },
      "source": [
        "`Property \"https://schema.org/license\" is recommended`...\n",
        "\n",
        "We can see at a glance that we miss an important metadata to build datasets for responsible AI: the license!"
      ]
    },
    {
      "cell_type": "markdown",
      "metadata": {
        "id": "S0BEhzqiEjd0"
      },
      "source": [
        "## Build the Croissant file and yield data\n",
        "\n",
        "Let's write the Croissant JSON-LD to a file on disk!"
      ]
    },
    {
      "cell_type": "code",
      "execution_count": 48,
      "metadata": {
        "id": "-XCycu81ECVq"
      },
      "outputs": [
        {
          "name": "stdout",
          "output_type": "stream",
          "text": [
            "{\n",
            "  \"@context\": {\n",
            "    \"@language\": \"en\",\n",
            "    \"@vocab\": \"https://schema.org/\",\n",
            "    \"citeAs\": \"cr:citeAs\",\n",
            "    \"column\": \"cr:column\",\n",
            "    \"conformsTo\": \"dct:conformsTo\",\n",
            "    \"cr\": \"http://mlcommons.org/croissant/\",\n",
            "    \"rai\": \"http://mlcommons.org/croissant/RAI/\",\n",
            "    \"data\": {\n",
            "      \"@id\": \"cr:data\",\n",
            "      \"@type\": \"@json\"\n",
            "    },\n",
            "    \"dataType\": {\n",
            "      \"@id\": \"cr:dataType\",\n",
            "      \"@type\": \"@vocab\"\n",
            "    },\n",
            "    \"dct\": \"http://purl.org/dc/terms/\",\n",
            "    \"examples\": {\n",
            "      \"@id\": \"cr:examples\",\n",
            "      \"@type\": \"@json\"\n",
            "    },\n",
            "    \"extract\": \"cr:extract\",\n",
            "    \"field\": \"cr:field\",\n",
            "    \"fileProperty\": \"cr:fileProperty\",\n",
            "    \"fileObject\": \"cr:fileObject\",\n",
            "    \"fileSet\": \"cr:fileSet\",\n",
            "    \"format\": \"cr:format\",\n",
            "    \"includes\": \"cr:includes\",\n",
            "    \"isLiveDataset\": \"cr:isLiveDataset\",\n",
            "    \"jsonPath\": \"cr:jsonPath\",\n",
            "    \"key\": \"cr:key\",\n",
            "    \"md5\": \"cr:md5\",\n",
            "    \"parentField\": \"cr:parentField\",\n",
            "    \"path\": \"cr:path\",\n",
            "    \"recordSet\": \"cr:recordSet\",\n",
            "    \"references\": \"cr:references\",\n",
            "    \"regex\": \"cr:regex\",\n",
            "    \"repeated\": \"cr:repeated\",\n",
            "    \"replace\": \"cr:replace\",\n",
            "    \"sc\": \"https://schema.org/\",\n",
            "    \"separator\": \"cr:separator\",\n",
            "    \"source\": \"cr:source\",\n",
            "    \"subField\": \"cr:subField\",\n",
            "    \"transform\": \"cr:transform\"\n",
            "  },\n",
            "  \"@type\": \"sc:Dataset\",\n",
            "  \"name\": \"LCDB 1.1\",\n",
            "  \"description\": \"Sample-wise learning curves plot performance versus training set size. They are useful for studying scaling laws and speeding up hyperparameter tuning and model selection. Learning curves are often assumed to be well-behaved: monotone (i.e. improving with more data) and convex. By constructing the Learning Curves Database 1.1, a larger scale database wither high resolution learning curves, we show that that learning curves are less often well-behaved than previously believed. Based on statistically rigorous methods, we find significant ill-behavior in approximately 14\\\\% of learning curves, almost twice as much as earlier estimates. We also identify which learners are to blame, and find that specific learners are more ill-behaved than others. Additionally, we find that different feature scalings rarely resolves ill-behavior. We evaluate the impact of ill-behavior on downstream tasks, such as learning curve fitting and model selection, and find it poses significant challenges, emphasizing the relevance of ill-behaving curves, and underscores the challenging nature of our newly proposed learning curve database.\",\n",
            "  \"conformsTo\": \"http://mlcommons.org/croissant/1.0\",\n",
            "  \"citeAs\": \"coming soon\",\n",
            "  \"license\": \"CC BY-NC-SA 4.0\",\n",
            "  \"url\": \"https://data.4tu.nl/private_datasets/V7dDlGyQJqPc_mXUAJL1MweACKG557GQtOWIVHhYpjU\",\n",
            "  \"distribution\": [\n",
            "    {\n",
            "      \"@type\": \"cr:FileObject\",\n",
            "      \"@id\": \"LCDB11_AUC_265_24\",\n",
            "      \"name\": \"LCDB11_AUC_265_24.hdf5\",\n",
            "      \"description\": \"LCDB 1.1: AUC learning curves of 24 leaners in 265 datasets (weighted One-vs-the-Rest (OvR) for multiclass)\",\n",
            "      \"contentUrl\": \"https://data.4tu.nl/file/3bd18108-fad0-4e4c-affd-4341fba99306/77832f78-9d7f-4db1-ab97-abceb9e227d9\",\n",
            "      \"encodingFormat\": \"application/x-hdf5\",\n",
            "      \"sha256\": \"9A7D14478A1A3231873FCC66BDA3606C7857F872CF3CBD368BFB12F6DFE9A14F\"\n",
            "    },\n",
            "    {\n",
            "      \"@type\": \"cr:FileObject\",\n",
            "      \"@id\": \"LCDB11_AUC_265_mixNB\",\n",
            "      \"name\": \"LCDB11_AUC_265_mixNB.hdf5\",\n",
            "      \"description\": \"LCDB 1.1: AUC learning curves of 4 mixed NB leaners in 265 datasets (weighted One-vs-the-Rest (OvR) for multiclass)\",\n",
            "      \"contentUrl\": \"https://data.4tu.nl/file/3bd18108-fad0-4e4c-affd-4341fba99306/58f5b37e-7dde-4600-acbb-d6f206eb6e45\",\n",
            "      \"encodingFormat\": \"application/x-hdf5\",\n",
            "      \"sha256\": \"87EB8DCF0A1D89BBE9DF24324C01439011A520AB6A3669EAE431288D6FB46BB9\"\n",
            "    },\n",
            "    {\n",
            "      \"@type\": \"cr:FileObject\",\n",
            "      \"@id\": \"LCDB11_ER_265_24\",\n",
            "      \"name\": \"LCDB11_ER_265_24.hdf5\",\n",
            "      \"description\": \"LCDB 1.1: error rate learning curves of 24 leaners in 265 datasets\",\n",
            "      \"contentUrl\": \"https://data.4tu.nl/file/3bd18108-fad0-4e4c-affd-4341fba99306/18519a1b-2fbd-45cb-b208-cf5a56e3293c\",\n",
            "      \"encodingFormat\": \"application/x-hdf5\",\n",
            "      \"sha256\": \"B2DD45C4715C9C620B5781C5A77DA00B978EA1A697DA0AA90E70A6B4D369A86C\"\n",
            "    },\n",
            "    {\n",
            "      \"@type\": \"cr:FileObject\",\n",
            "      \"@id\": \"LCDB11_ER_265_mixNB\",\n",
            "      \"name\": \"LCDB11_ER_265_mixNB.hdf5\",\n",
            "      \"description\": \"LCDB 1.1: error rate learning curves of 4 mixed NB leaners in 265 datasets\",\n",
            "      \"contentUrl\": \"https://data.4tu.nl/file/3bd18108-fad0-4e4c-affd-4341fba99306/8f65a88b-1ff5-4a83-a3d8-09823e13400f\",\n",
            "      \"encodingFormat\": \"application/x-hdf5\",\n",
            "      \"sha256\": \"8D3C8B355515A2E7B326D6DD0C3539CDAFBAEE260A074703FAF3E9869FAF82E2\"\n",
            "    },\n",
            "    {\n",
            "      \"@type\": \"cr:FileObject\",\n",
            "      \"@id\": \"LCDB11_ER_CC18_24\",\n",
            "      \"name\": \"LCDB11_ER_CC18_24.hdf5\",\n",
            "      \"description\": \"LCDB 1.1: error rate learning curves of 24 leaners in CC-18 datasets\",\n",
            "      \"contentUrl\": \"https://data.4tu.nl/file/3bd18108-fad0-4e4c-affd-4341fba99306/d1016687-644d-4c26-9e22-2d5e4a665f12\",\n",
            "      \"encodingFormat\": \"application/x-hdf5\",\n",
            "      \"sha256\": \"5E2FD4BC720C814459175502C78672907590A6C69012B47E4D70B95B4F0F11F7\"\n",
            "    },\n",
            "    {\n",
            "      \"@type\": \"cr:FileObject\",\n",
            "      \"@id\": \"LCDB11_f1_265_24\",\n",
            "      \"name\": \"LCDB11_f1_265_24.hdf5\",\n",
            "      \"description\": \"LCDB 1.1: F1 score learning curves of 24 leaners in 265 datasets\",\n",
            "      \"contentUrl\": \"https://data.4tu.nl/file/3bd18108-fad0-4e4c-affd-4341fba99306/499e0751-766e-49b1-a9bb-bed7e420f7a3\",\n",
            "      \"encodingFormat\": \"application/x-hdf5\",\n",
            "      \"sha256\": \"E5F181A963271057D7FD3C7F91B6966AF6A60A7C021DAEBD6037EB606AFEC6F9\"\n",
            "    },\n",
            "    {\n",
            "      \"@type\": \"cr:FileObject\",\n",
            "      \"@id\": \"LCDB11_f1_265_mixNB\",\n",
            "      \"name\": \"LCDB11_f1_265_mixNB.hdf5\",\n",
            "      \"description\": \"LCDB 1.1: F1 score learning curves of 4 mixed NB leaners in 265 datasets\",\n",
            "      \"contentUrl\": \"https://data.4tu.nl/file/3bd18108-fad0-4e4c-affd-4341fba99306/bf766e1f-836e-47bd-8aef-c15cbb7501fb\",\n",
            "      \"encodingFormat\": \"application/x-hdf5\",\n",
            "      \"sha256\": \"0F66B9CA4D413D88C030B460E80825FEE3194BAAE0CC30AD3B3375A6DFAA53F2\"\n",
            "    },\n",
            "    {\n",
            "      \"@type\": \"cr:FileObject\",\n",
            "      \"@id\": \"LCDB11_log-loss_265_24\",\n",
            "      \"name\": \"LCDB11_log-loss_265_24.hdf5\",\n",
            "      \"description\": \"LCDB 1.1: log-loss learning curves of 24 leaners in 265 datasets\",\n",
            "      \"contentUrl\": \"https://data.4tu.nl/file/3bd18108-fad0-4e4c-affd-4341fba99306/f0acffa7-b031-4efe-9505-21ac4d448231\",\n",
            "      \"encodingFormat\": \"application/x-hdf5\",\n",
            "      \"sha256\": \"D9F9F671F3B53E75E4C320D1F107EF93D9450074267154FE660D1A67A2542041\"\n",
            "    },\n",
            "    {\n",
            "      \"@type\": \"cr:FileObject\",\n",
            "      \"@id\": \"LCDB11_log-loss_265_mixNB\",\n",
            "      \"name\": \"LCDB11_log-loss_265_mixNB.hdf5\",\n",
            "      \"description\": \"LCDB 1.1: log-loss learning curves of 4 mixed NB leaners in 265 datasets\",\n",
            "      \"contentUrl\": \"https://data.4tu.nl/file/3bd18108-fad0-4e4c-affd-4341fba99306/3b0be3fc-f1e4-42df-a61b-fe699bfab0f1\",\n",
            "      \"encodingFormat\": \"application/x-hdf5\",\n",
            "      \"sha256\": \"721503B67CD5F97C48A6FB34E4A6F869D4427446FC696C7EAD739B2242333B0B\"\n",
            "    },\n",
            "    {\n",
            "      \"@type\": \"cr:FileObject\",\n",
            "      \"@id\": \"LCDB11_msg_265_24\",\n",
            "      \"name\": \"LCDB11_msg_265_24.hdf5\",\n",
            "      \"description\": \"LCDB 1.1: status and error message of 24 leaners in 265 datasets\",\n",
            "      \"contentUrl\": \"https://data.4tu.nl/file/3bd18108-fad0-4e4c-affd-4341fba99306/5862f359-69e6-4732-9195-1d68552b976a\",\n",
            "      \"encodingFormat\": \"application/x-hdf5\",\n",
            "      \"sha256\": \"B22399AD494304C041D564DA0690844BC7C22947C9B628739AB711531544C9C2\"\n",
            "    },\n",
            "    {\n",
            "      \"@type\": \"cr:FileObject\",\n",
            "      \"@id\": \"LCDB11_traintime_265_24\",\n",
            "      \"name\": \"LCDB11_traintime_265_24.hdf5\",\n",
            "      \"description\": \"LCDB 1.1: training time learning curves of 24 leaners in 265 datasets\",\n",
            "      \"contentUrl\": \"https://data.4tu.nl/file/3bd18108-fad0-4e4c-affd-4341fba99306/82170e2b-592d-47ee-82ce-0dce1bfb38e2\",\n",
            "      \"encodingFormat\": \"application/x-hdf5\",\n",
            "      \"sha256\": \"AFB99958FE137DF081BF33D2C8ED72BA99651DC48920FD35BD2B7D7F94D9BA86\"\n",
            "    },\n",
            "    {\n",
            "      \"@type\": \"cr:FileSet\",\n",
            "      \"@id\": \"LCDB-1.1\",\n",
            "      \"name\": \"Learning Curves Database 1.1 (LCDB 1.1)\",\n",
            "      \"description\": \"All HDF5-files of LCDB 1.1 are hosted on 4TU.ResearchData.\",\n",
            "      \"containedIn\": [\n",
            "        {\n",
            "          \"@id\": \"LCDB11_AUC_265_24\"\n",
            "        },\n",
            "        {\n",
            "          \"@id\": \"LCDB11_AUC_265_mixNB\"\n",
            "        },\n",
            "        {\n",
            "          \"@id\": \"LCDB11_ER_265_24\"\n",
            "        },\n",
            "        {\n",
            "          \"@id\": \"LCDB11_ER_265_mixNB\"\n",
            "        },\n",
            "        {\n",
            "          \"@id\": \"LCDB11_ER_CC18_24\"\n",
            "        },\n",
            "        {\n",
            "          \"@id\": \"LCDB11_f1_265_24\"\n",
            "        },\n",
            "        {\n",
            "          \"@id\": \"LCDB11_f1_265_mixNB\"\n",
            "        },\n",
            "        {\n",
            "          \"@id\": \"LCDB11_log-loss_265_24\"\n",
            "        },\n",
            "        {\n",
            "          \"@id\": \"LCDB11_log-loss_265_mixNB\"\n",
            "        },\n",
            "        {\n",
            "          \"@id\": \"LCDB11_msg_265_24\"\n",
            "        },\n",
            "        {\n",
            "          \"@id\": \"LCDB11_traintime_265_24\"\n",
            "        }\n",
            "      ],\n",
            "      \"encodingFormat\": \"application/x-hdf5\",\n",
            "      \"includes\": \"*.hdf5\"\n",
            "    }\n",
            "  ]\n",
            "}\n"
          ]
        }
      ],
      "source": [
        "import json\n",
        "\n",
        "with open(\"croissant.json\", \"w\") as f:\n",
        "  content = metadata.to_json()\n",
        "  content = json.dumps(content, indent=2)\n",
        "  print(content)\n",
        "  f.write(content)\n",
        "  f.write(\"\\n\")  # Terminate file with newline"
      ]
    },
    {
      "cell_type": "markdown",
      "metadata": {
        "id": "Ypb_ll3SE6UU"
      },
      "source": [
        "From this JSON-LD file, we can easily create a dataset..."
      ]
    },
    {
      "cell_type": "code",
      "execution_count": 49,
      "metadata": {
        "id": "_JNyQFuAEiIs"
      },
      "outputs": [
        {
          "name": "stderr",
          "output_type": "stream",
          "text": [
            "WARNING:absl:Found the following 2 warning(s) during the validation:\n",
            "  -  [Metadata(LCDB 1.1)] Property \"https://schema.org/datePublished\" is recommended, but does not exist.\n",
            "  -  [Metadata(LCDB 1.1)] Property \"https://schema.org/version\" is recommended, but does not exist.\n"
          ]
        }
      ],
      "source": [
        "dataset = mlc.Dataset(jsonld=\"croissant.json\")"
      ]
    },
    {
      "cell_type": "markdown",
      "metadata": {
        "id": "ldwdIGPoFT_p"
      },
      "source": [
        "...and yield records from this dataset:"
      ]
    },
    {
      "cell_type": "code",
      "execution_count": 50,
      "metadata": {
        "id": "MHdVY4TBEqZ8"
      },
      "outputs": [
        {
          "ename": "ValueError",
          "evalue": "did not find any record set with the name `jsonl`. This dataset declares no record sets.",
          "output_type": "error",
          "traceback": [
            "\u001b[1;31m---------------------------------------------------------------------------\u001b[0m",
            "\u001b[1;31mValueError\u001b[0m                                Traceback (most recent call last)",
            "Cell \u001b[1;32mIn[50], line 1\u001b[0m\n\u001b[1;32m----> 1\u001b[0m records \u001b[38;5;241m=\u001b[39m \u001b[43mdataset\u001b[49m\u001b[38;5;241;43m.\u001b[39;49m\u001b[43mrecords\u001b[49m\u001b[43m(\u001b[49m\u001b[43mrecord_set\u001b[49m\u001b[38;5;241;43m=\u001b[39;49m\u001b[38;5;124;43m\"\u001b[39;49m\u001b[38;5;124;43mjsonl\u001b[39;49m\u001b[38;5;124;43m\"\u001b[39;49m\u001b[43m)\u001b[49m\n\u001b[0;32m      3\u001b[0m \u001b[38;5;28;01mfor\u001b[39;00m i, record \u001b[38;5;129;01min\u001b[39;00m \u001b[38;5;28menumerate\u001b[39m(records):\n\u001b[0;32m      4\u001b[0m   \u001b[38;5;28mprint\u001b[39m(record)\n",
            "File \u001b[1;32mc:\\Users\\cyan1\\AppData\\Local\\miniconda3\\envs\\mlcroissant-env-py310\\lib\\site-packages\\mlcroissant\\_src\\datasets.py:127\u001b[0m, in \u001b[0;36mDataset.records\u001b[1;34m(self, record_set, filters)\u001b[0m\n\u001b[0;32m    125\u001b[0m     \u001b[38;5;28;01melse\u001b[39;00m:\n\u001b[0;32m    126\u001b[0m         error_msg \u001b[38;5;241m+\u001b[39m\u001b[38;5;241m=\u001b[39m \u001b[38;5;124mf\u001b[39m\u001b[38;5;124m\"\u001b[39m\u001b[38;5;124mPossible RecordSets: \u001b[39m\u001b[38;5;132;01m{\u001b[39;00mids\u001b[38;5;132;01m}\u001b[39;00m\u001b[38;5;124m\"\u001b[39m\n\u001b[1;32m--> 127\u001b[0m     \u001b[38;5;28;01mraise\u001b[39;00m \u001b[38;5;167;01mValueError\u001b[39;00m(error_msg)\n\u001b[0;32m    128\u001b[0m \u001b[38;5;28;01mreturn\u001b[39;00m Records(\n\u001b[0;32m    129\u001b[0m     dataset\u001b[38;5;241m=\u001b[39m\u001b[38;5;28mself\u001b[39m,\n\u001b[0;32m    130\u001b[0m     record_set\u001b[38;5;241m=\u001b[39mrecord_set,\n\u001b[0;32m    131\u001b[0m     filters\u001b[38;5;241m=\u001b[39mfilters,\n\u001b[0;32m    132\u001b[0m     debug\u001b[38;5;241m=\u001b[39m\u001b[38;5;28mself\u001b[39m\u001b[38;5;241m.\u001b[39mdebug,\n\u001b[0;32m    133\u001b[0m )\n",
            "\u001b[1;31mValueError\u001b[0m: did not find any record set with the name `jsonl`. This dataset declares no record sets."
          ]
        }
      ],
      "source": [
        "records = dataset.records(record_set=\"jsonl\")\n",
        "\n",
        "for i, record in enumerate(records):\n",
        "  print(record)\n",
        "  if i > 10:\n",
        "    break"
      ]
    },
    {
      "cell_type": "code",
      "execution_count": null,
      "metadata": {
        "id": "8a2sCy0GFYCQ"
      },
      "outputs": [],
      "source": []
    }
  ],
  "metadata": {
    "colab": {
      "provenance": []
    },
    "kernelspec": {
      "display_name": "mlcroissant-env-py310",
      "language": "python",
      "name": "python3"
    },
    "language_info": {
      "codemirror_mode": {
        "name": "ipython",
        "version": 3
      },
      "file_extension": ".py",
      "mimetype": "text/x-python",
      "name": "python",
      "nbconvert_exporter": "python",
      "pygments_lexer": "ipython3",
      "version": "3.10.16"
    }
  },
  "nbformat": 4,
  "nbformat_minor": 0
}
